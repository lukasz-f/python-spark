{
 "cells": [
  {
   "cell_type": "markdown",
   "id": "108f15ec-3570-40b7-bae7-68085e890a0f",
   "metadata": {},
   "source": [
    "# Cleaning Data with PySpark - Part 2"
   ]
  },
  {
   "cell_type": "markdown",
   "id": "e2d82a90-db76-46d0-a6c4-a452c9ad6106",
   "metadata": {},
   "source": [
    "## Manipulating DataFrames in the real world\n",
    "A look at various techniques to modify the contents of DataFrames in Spark."
   ]
  },
  {
   "cell_type": "code",
   "execution_count": 1,
   "id": "b4c1b446-38ff-482d-b701-8b3eb964a3d5",
   "metadata": {
    "tags": []
   },
   "outputs": [],
   "source": [
    "BUCKET = 'driven-actor-210609'"
   ]
  },
  {
   "cell_type": "code",
   "execution_count": 59,
   "id": "c18bba53-1fdc-4ce9-a94d-52bab53716e4",
   "metadata": {
    "tags": []
   },
   "outputs": [],
   "source": [
    "from pyspark.sql import SparkSession\n",
    "import pyspark.sql.functions as F\n",
    "from pyspark.sql.types import StringType"
   ]
  },
  {
   "cell_type": "code",
   "execution_count": 3,
   "id": "a57b18b3-0d0a-457f-ad28-efc2efd9342e",
   "metadata": {
    "tags": []
   },
   "outputs": [
    {
     "name": "stderr",
     "output_type": "stream",
     "text": [
      "Setting default log level to \"WARN\".\n",
      "To adjust logging level use sc.setLogLevel(newLevel). For SparkR, use setLogLevel(newLevel).\n",
      "25/03/13 10:37:58 INFO SparkEnv: Registering MapOutputTracker\n",
      "25/03/13 10:37:58 INFO SparkEnv: Registering BlockManagerMaster\n",
      "25/03/13 10:37:58 INFO SparkEnv: Registering BlockManagerMasterHeartbeat\n",
      "25/03/13 10:37:58 INFO SparkEnv: Registering OutputCommitCoordinator\n"
     ]
    }
   ],
   "source": [
    "spark = SparkSession.builder.getOrCreate()"
   ]
  },
  {
   "cell_type": "markdown",
   "id": "68a5e19a-f247-42f9-aa2c-724b2fd912a6",
   "metadata": {},
   "source": [
    "### Filtering column content with Python\n",
    "You've looked at using various operations on DataFrame columns - now you can modify a real dataset. The DataFrame `voter_df` contains information regarding the voters on the Dallas City Council from the past few years. This truncated DataFrame contains the date of the vote being cast and the name and position of the voter. Your manager has asked you to clean this data so it can later be integrated into some desired reports. The primary task is to remove any null entries or odd characters and return a specific set of voters where you can validate their information.\n",
    "\n",
    "This is often one of the first steps in data cleaning - removing anything that is obviously outside the format. For this dataset, make sure to look at the original data and see what looks out of place for the `VOTER_NAME` column.\n",
    "\n",
    "The `pyspark.sql.functions` library is already imported under the alias `F`."
   ]
  },
  {
   "cell_type": "code",
   "execution_count": 73,
   "id": "9a1c1042-586b-4e9d-a38e-9d794cc9b2b0",
   "metadata": {
    "tags": []
   },
   "outputs": [],
   "source": [
    "file_path = f'gs://{BUCKET}/pyspark/datasets/DallasCouncilVoters.csv.gz'\n",
    "# file_path = 'datasets/DallasCouncilVoters.csv.gz'\n",
    "\n",
    "voter_df = spark.read.format('csv').options(Header=True).load(file_path)"
   ]
  },
  {
   "cell_type": "code",
   "execution_count": 74,
   "id": "625d9822-ccdb-4549-9e60-81619b09fac4",
   "metadata": {
    "tags": []
   },
   "outputs": [
    {
     "name": "stdout",
     "output_type": "stream",
     "text": [
      "+----------+-------------+-------------------+\n",
      "|      DATE|        TITLE|         VOTER_NAME|\n",
      "+----------+-------------+-------------------+\n",
      "|02/08/2017|Councilmember|  Jennifer S. Gates|\n",
      "|02/08/2017|Councilmember| Philip T. Kingston|\n",
      "|02/08/2017|        Mayor|Michael S. Rawlings|\n",
      "|02/08/2017|Councilmember|       Adam Medrano|\n",
      "|02/08/2017|Councilmember|       Casey Thomas|\n",
      "|02/08/2017|Councilmember|Carolyn King Arnold|\n",
      "|02/08/2017|Councilmember|       Scott Griggs|\n",
      "|02/08/2017|Councilmember|   B. Adam  McGough|\n",
      "|02/08/2017|Councilmember|       Lee Kleinman|\n",
      "|02/08/2017|Councilmember|      Sandy Greyson|\n",
      "+----------+-------------+-------------------+\n",
      "only showing top 10 rows\n",
      "\n"
     ]
    }
   ],
   "source": [
    "voter_df.show(10)"
   ]
  },
  {
   "cell_type": "code",
   "execution_count": 75,
   "id": "099bf7b4-acff-4fbe-84ca-1d2c8adf8852",
   "metadata": {
    "tags": []
   },
   "outputs": [
    {
     "name": "stdout",
     "output_type": "stream",
     "text": [
      "+---------------------------------------------------------------------------------------------------------------------------------------------------------------------------------------------------------------------------------------------------------------------------------------------------------------------------------------------------------------------------------------------------------------------------+\n",
      "|VOTER_NAME                                                                                                                                                                                                                                                                                                                                                                                                                 |\n",
      "+---------------------------------------------------------------------------------------------------------------------------------------------------------------------------------------------------------------------------------------------------------------------------------------------------------------------------------------------------------------------------------------------------------------------------+\n",
      "|Mark  Clayton                                                                                                                                                                                                                                                                                                                                                                                                              |\n",
      "|Omar Narvaez                                                                                                                                                                                                                                                                                                                                                                                                               |\n",
      "|Dwaine R. Caraway                                                                                                                                                                                                                                                                                                                                                                                                          |\n",
      "|011018__42                                                                                                                                                                                                                                                                                                                                                                                                                 |\n",
      "|Casey Thomas                                                                                                                                                                                                                                                                                                                                                                                                               |\n",
      "|Sandy  Greyson                                                                                                                                                                                                                                                                                                                                                                                                             |\n",
      "|Tiffinni A. Young                                                                                                                                                                                                                                                                                                                                                                                                          |\n",
      "|Carolyn King Arnold                                                                                                                                                                                                                                                                                                                                                                                                        |\n",
      "|Scott Griggs                                                                                                                                                                                                                                                                                                                                                                                                               |\n",
      "|Scott  Griggs                                                                                                                                                                                                                                                                                                                                                                                                              |\n",
      "|Casey  Thomas                                                                                                                                                                                                                                                                                                                                                                                                              |\n",
      "|   the   final  2018 Assessment  Plan  and  the  2018 Assessment  Roll  (to  be  kept  on  file   with the City Secretary); establishing classifications  for  the  apportionment  of  costs  and  the  methods  of  assessing  special  assessments  for  the  services  and  improvements  to  property  in  the  District;  closing  the  hearing  and  levying  a special  assessment  on  property  in  the  District |\n",
      "|  the  final  2018 Assessment  Plan   and   the   2018 Assessment   Roll  (to  be  kept  on  file  with  the  City  Secretary);  establishing   classifications  for the apportionment of costs and the  methods  of  assessing  special  assessments for the services and improvements  to  property  in  the  District;  closing the hearing and  levying  a  special  assessment  on  property  in  the  District       |\n",
      "|B. Adam  McGough                                                                                                                                                                                                                                                                                                                                                                                                           |\n",
      "|Philip T. Kingston                                                                                                                                                                                                                                                                                                                                                                                                         |\n",
      "|Monica R. Alonzo                                                                                                                                                                                                                                                                                                                                                                                                           |\n",
      "|  the  final  2018 Assessment Plan and the 2018 Assessment  Roll  (to  be  kept  on  file  with  the  City  Secretary);  establishing  classifications  for  the   apportionment   of   costs and the methods of assessing special assessments for the services and improvements to property in the District; closing  the  hearing  and  levying  a  special  assessment  on  property  in  the  District                 |\n",
      "|  the  final   2018 Assessment Plan and the 2018 Assessment  Roll  (to  be  kept  on  file  with  the  City  Secretary);  establishing  classifications  for   the   apportionment   of   costs and the methods of assessing special assessments for the services and improvements to property in the District;  closing  the  hearing  and  levying  a  special  assessment  on  property  in  the  District              |\n",
      "|Michael S. Rawlings                                                                                                                                                                                                                                                                                                                                                                                                        |\n",
      "| the final 2018 Assessment Plan and the 2018 Assessment  Roll  (to  be  kept  on  file  with  the  City  Secretary);  establishing  classifications  for  the   apportionment   of   costs and  the  methods  of  assessing  special  assessments  on  Dallas  hotels  with    100 or more rooms                                                                                                                           |\n",
      "|Kevin Felder                                                                                                                                                                                                                                                                                                                                                                                                               |\n",
      "|Adam Medrano                                                                                                                                                                                                                                                                                                                                                                                                               |\n",
      "|Mark Clayton                                                                                                                                                                                                                                                                                                                                                                                                               |\n",
      "|Rickey D. Callahan                                                                                                                                                                                                                                                                                                                                                                                                         |\n",
      "|Lee M. Kleinman                                                                                                                                                                                                                                                                                                                                                                                                            |\n",
      "|  the  final   2018 Assessment Plan and the 2018 Assessment  Roll  (to  be  kept  on  file  with  the  City  Secretary);  establishing  classifications  for  the   apportionment   of   costs and the methods of assessing special assessments for the services and improvements to property in the District;  closing  the  hearing  and  levying  a  special  assessment  on  property  in  the  District               |\n",
      "|Erik Wilson                                                                                                                                                                                                                                                                                                                                                                                                                |\n",
      "|Tennell Atkins                                                                                                                                                                                                                                                                                                                                                                                                             |\n",
      "|Sandy Greyson                                                                                                                                                                                                                                                                                                                                                                                                              |\n",
      "|Jennifer S.  Gates                                                                                                                                                                                                                                                                                                                                                                                                         |\n",
      "|Philip T.  Kingston                                                                                                                                                                                                                                                                                                                                                                                                        |\n",
      "|Jennifer S. Gates                                                                                                                                                                                                                                                                                                                                                                                                          |\n",
      "|   the   final  2018 Assessment  Plan  and  the  2018 Assessment  Roll   (to  be  kept  on  file   with the City Secretary); establishing classifications  for  the  apportionment  of  costs  and  the  methods  of  assessing  special  assessments  for  the  services  and  improvements  to  property  in  the  District;  closing  the  hearing  and  levying  a special  assessment  on  property  in  the  District|\n",
      "|Rickey D.  Callahan                                                                                                                                                                                                                                                                                                                                                                                                        |\n",
      "|Lee Kleinman                                                                                                                                                                                                                                                                                                                                                                                                               |\n",
      "|NULL                                                                                                                                                                                                                                                                                                                                                                                                                       |\n",
      "+---------------------------------------------------------------------------------------------------------------------------------------------------------------------------------------------------------------------------------------------------------------------------------------------------------------------------------------------------------------------------------------------------------------------------+\n",
      "\n"
     ]
    }
   ],
   "source": [
    "# Show the distinct VOTER_NAME entries\n",
    "voter_df.select('VOTER_NAME').distinct().show(40, truncate=False)"
   ]
  },
  {
   "cell_type": "code",
   "execution_count": 76,
   "id": "5bf8151f-fc21-4ebd-9f06-a81098340e89",
   "metadata": {
    "tags": []
   },
   "outputs": [],
   "source": [
    "# Filter voter_df where the VOTER_NAME is 1-20 characters in length\n",
    "voter_df = voter_df.filter('length(VOTER_NAME) > 0 and length(VOTER_NAME) < 20')\n",
    "\n",
    "# Filter out voter_df where the VOTER_NAME contains an underscore\n",
    "voter_df = voter_df.filter(~ F.col('VOTER_NAME').contains('_'))\n",
    "\n",
    "# Filter out voter_df where the VOTER_NAME starts with \"M\"\n",
    "voter_df = voter_df.filter(~ voter_df['VOTER_NAME'].like('S%'))\n",
    "\n",
    "# Filter voter_df where VOTER_NAME is not null\n",
    "voter_df = voter_df.filter(voter_df['VOTER_NAME'].isNotNull())"
   ]
  },
  {
   "cell_type": "code",
   "execution_count": 77,
   "id": "dd7a5165-5c94-4c8a-bee4-893b2181acb3",
   "metadata": {
    "tags": []
   },
   "outputs": [
    {
     "name": "stdout",
     "output_type": "stream",
     "text": [
      "+-------------------+\n",
      "|VOTER_NAME         |\n",
      "+-------------------+\n",
      "|Mark  Clayton      |\n",
      "|Omar Narvaez       |\n",
      "|Dwaine R. Caraway  |\n",
      "|Casey Thomas       |\n",
      "|Tiffinni A. Young  |\n",
      "|Carolyn King Arnold|\n",
      "|Casey  Thomas      |\n",
      "|B. Adam  McGough   |\n",
      "|Philip T. Kingston |\n",
      "|Monica R. Alonzo   |\n",
      "|Michael S. Rawlings|\n",
      "|Kevin Felder       |\n",
      "|Adam Medrano       |\n",
      "|Mark Clayton       |\n",
      "|Rickey D. Callahan |\n",
      "|Lee M. Kleinman    |\n",
      "|Erik Wilson        |\n",
      "|Tennell Atkins     |\n",
      "|Jennifer S.  Gates |\n",
      "|Philip T.  Kingston|\n",
      "|Jennifer S. Gates  |\n",
      "|Rickey D.  Callahan|\n",
      "|Lee Kleinman       |\n",
      "+-------------------+\n",
      "\n"
     ]
    }
   ],
   "source": [
    "# Show the distinct VOTER_NAME entries again\n",
    "voter_df.select('VOTER_NAME').distinct().show(40, truncate=False)"
   ]
  },
  {
   "cell_type": "markdown",
   "id": "5ef5db25-47cb-4a25-85c4-c23d67a82081",
   "metadata": {},
   "source": [
    "### Modifying DataFrame columns\n",
    "Previously, you filtered out any rows that didn't conform to something generally resembling a name. Now based on your earlier work, your manager has asked you to create two new columns - `first_name` and `last_name`. She asks you to split the `VOTER_NAME` column into words on any space character. You'll treat the last word as the `last_name`, and all other words as the `first_name`. You'll be using some new functions in this exercise including `.split()`, `.size()`, and `.getItem()`. The `.getItem(index)` takes an integer value to return the appropriately numbered item in the column. The functions `.split()` and `.size()` are in the `pyspark.sql.functions` library.\n",
    "\n",
    "Please note that these operations are always somewhat specific to the use case. Having your data conform to a format often matters more than the specific details of the format. Rarely is a data cleaning task meant just for one person - matching a defined format allows for easier sharing of the data later (ie, Paul doesn't need to worry about names - Mary already cleaned the dataset).\n",
    "\n",
    "The filtered voter DataFrame from your previous exercise is available as `voter_df`. The `pyspark.sql.functions` library is available under the alias `F`."
   ]
  },
  {
   "cell_type": "code",
   "execution_count": 78,
   "id": "30f665c5-74cb-4712-8822-248cbdf1a63b",
   "metadata": {
    "tags": []
   },
   "outputs": [],
   "source": [
    "# Add a new column called splits separated on whitespace\n",
    "voter_df = voter_df.withColumn('splits', F.split(voter_df.VOTER_NAME, '\\s+'))\n",
    "\n",
    "# Create a new column called first_name based on the first item in splits\n",
    "voter_df = voter_df.withColumn('first_name', voter_df.splits.getItem(0))\n",
    "\n",
    "# Get the last entry of the splits list and create a column called last_name\n",
    "voter_df = voter_df.withColumn('last_name', voter_df.splits.getItem(F.size('splits') - 1))"
   ]
  },
  {
   "cell_type": "code",
   "execution_count": 79,
   "id": "040e6d3c-283c-4f83-95c9-e0369fe49e15",
   "metadata": {
    "tags": []
   },
   "outputs": [
    {
     "name": "stdout",
     "output_type": "stream",
     "text": [
      "+----------+-------------+-------------------+-----------------------+----------+---------+\n",
      "|DATE      |TITLE        |VOTER_NAME         |splits                 |first_name|last_name|\n",
      "+----------+-------------+-------------------+-----------------------+----------+---------+\n",
      "|02/08/2017|Councilmember|Jennifer S. Gates  |[Jennifer, S., Gates]  |Jennifer  |Gates    |\n",
      "|02/08/2017|Councilmember|Philip T. Kingston |[Philip, T., Kingston] |Philip    |Kingston |\n",
      "|02/08/2017|Mayor        |Michael S. Rawlings|[Michael, S., Rawlings]|Michael   |Rawlings |\n",
      "|02/08/2017|Councilmember|Adam Medrano       |[Adam, Medrano]        |Adam      |Medrano  |\n",
      "|02/08/2017|Councilmember|Casey Thomas       |[Casey, Thomas]        |Casey     |Thomas   |\n",
      "|02/08/2017|Councilmember|Carolyn King Arnold|[Carolyn, King, Arnold]|Carolyn   |Arnold   |\n",
      "|02/08/2017|Councilmember|B. Adam  McGough   |[B., Adam, McGough]    |B.        |McGough  |\n",
      "|02/08/2017|Councilmember|Lee Kleinman       |[Lee, Kleinman]        |Lee       |Kleinman |\n",
      "|02/08/2017|Councilmember|Jennifer S. Gates  |[Jennifer, S., Gates]  |Jennifer  |Gates    |\n",
      "|02/08/2017|Councilmember|Philip T. Kingston |[Philip, T., Kingston] |Philip    |Kingston |\n",
      "+----------+-------------+-------------------+-----------------------+----------+---------+\n",
      "only showing top 10 rows\n",
      "\n"
     ]
    }
   ],
   "source": [
    "voter_df.show(10, truncate=False)"
   ]
  },
  {
   "cell_type": "code",
   "execution_count": 80,
   "id": "645e858e-0ca3-4146-9807-6c82a18ff050",
   "metadata": {
    "tags": []
   },
   "outputs": [
    {
     "name": "stdout",
     "output_type": "stream",
     "text": [
      "+----------+--------------------+-------------------+--------------------+----------+---------+----+\n",
      "|      DATE|               TITLE|         VOTER_NAME|              splits|first_name|last_name|year|\n",
      "+----------+--------------------+-------------------+--------------------+----------+---------+----+\n",
      "|02/08/2017|       Councilmember|  Jennifer S. Gates|[Jennifer, S., Ga...|  Jennifer|    Gates|2017|\n",
      "|02/08/2017|       Councilmember| Philip T. Kingston|[Philip, T., King...|    Philip| Kingston|2017|\n",
      "|02/08/2017|               Mayor|Michael S. Rawlings|[Michael, S., Raw...|   Michael| Rawlings|2017|\n",
      "|02/08/2017|       Councilmember|       Adam Medrano|     [Adam, Medrano]|      Adam|  Medrano|2017|\n",
      "|02/08/2017|       Councilmember|       Casey Thomas|     [Casey, Thomas]|     Casey|   Thomas|2017|\n",
      "|02/08/2017|       Councilmember|Carolyn King Arnold|[Carolyn, King, A...|   Carolyn|   Arnold|2017|\n",
      "|02/08/2017|       Councilmember|   B. Adam  McGough| [B., Adam, McGough]|        B.|  McGough|2017|\n",
      "|02/08/2017|       Councilmember|       Lee Kleinman|     [Lee, Kleinman]|       Lee| Kleinman|2017|\n",
      "|02/08/2017|       Councilmember|  Jennifer S. Gates|[Jennifer, S., Ga...|  Jennifer|    Gates|2017|\n",
      "|02/08/2017|       Councilmember| Philip T. Kingston|[Philip, T., King...|    Philip| Kingston|2017|\n",
      "|02/08/2017|               Mayor|Michael S. Rawlings|[Michael, S., Raw...|   Michael| Rawlings|2017|\n",
      "|02/08/2017|       Councilmember|       Adam Medrano|     [Adam, Medrano]|      Adam|  Medrano|2017|\n",
      "|02/08/2017|       Councilmember|       Casey Thomas|     [Casey, Thomas]|     Casey|   Thomas|2017|\n",
      "|02/08/2017|       Councilmember|Carolyn King Arnold|[Carolyn, King, A...|   Carolyn|   Arnold|2017|\n",
      "|02/08/2017|       Councilmember| Rickey D. Callahan|[Rickey, D., Call...|    Rickey| Callahan|2017|\n",
      "|01/11/2017|       Councilmember|  Jennifer S. Gates|[Jennifer, S., Ga...|  Jennifer|    Gates|2017|\n",
      "|04/25/2018|       Councilmember| Jennifer S.  Gates|[Jennifer, S., Ga...|  Jennifer|    Gates|2018|\n",
      "|04/25/2018|       Councilmember|Philip T.  Kingston|[Philip, T., King...|    Philip| Kingston|2018|\n",
      "|04/25/2018|               Mayor|Michael S. Rawlings|[Michael, S., Raw...|   Michael| Rawlings|2018|\n",
      "|04/25/2018|Deputy Mayor Pro Tem|       Adam Medrano|     [Adam, Medrano]|      Adam|  Medrano|2018|\n",
      "+----------+--------------------+-------------------+--------------------+----------+---------+----+\n",
      "only showing top 20 rows\n",
      "\n"
     ]
    }
   ],
   "source": [
    "# Convert string to date format\n",
    "voter_df = voter_df.withColumn('dt', F.to_date(voter_df['DATE'], 'MM/dd/yyyy'))\n",
    "\n",
    "# Create a new column called year with year from date column\n",
    "voter_df = voter_df.withColumn('year', F.year(voter_df['dt']))\n",
    "\n",
    "# Drop the dt column\n",
    "voter_df = voter_df.drop('dt')\n",
    "\n",
    "# Show the voter_df DataFrame\n",
    "voter_df.show()"
   ]
  },
  {
   "cell_type": "markdown",
   "id": "f9ba4bd3-7565-4dea-bc32-034be22373c0",
   "metadata": {},
   "source": [
    "### when() example\n",
    "The `when()` clause lets you conditionally modify a Data Frame based on its content. You'll want to modify our `voter_df` DataFrame to add a random number to any voting member that is defined as a \"Councilmember\".\n",
    "\n",
    "The `voter_df` DataFrame is defined and available to you. The `pyspark.sql.functions` library is available as `F`. You can use `F.rand()` to generate the random value."
   ]
  },
  {
   "cell_type": "code",
   "execution_count": 81,
   "id": "d2f35bd9-f127-459e-9b3e-6e527883842f",
   "metadata": {
    "tags": []
   },
   "outputs": [
    {
     "name": "stdout",
     "output_type": "stream",
     "text": [
      "+----------+--------------------+-------------------+--------------------+----------+---------+----+--------------------+\n",
      "|      DATE|               TITLE|         VOTER_NAME|              splits|first_name|last_name|year|          random_val|\n",
      "+----------+--------------------+-------------------+--------------------+----------+---------+----+--------------------+\n",
      "|02/08/2017|       Councilmember|  Jennifer S. Gates|[Jennifer, S., Ga...|  Jennifer|    Gates|2017|   0.927784486278443|\n",
      "|02/08/2017|       Councilmember| Philip T. Kingston|[Philip, T., King...|    Philip| Kingston|2017|  0.2802769543704745|\n",
      "|02/08/2017|               Mayor|Michael S. Rawlings|[Michael, S., Raw...|   Michael| Rawlings|2017|                NULL|\n",
      "|02/08/2017|       Councilmember|       Adam Medrano|     [Adam, Medrano]|      Adam|  Medrano|2017|  0.9243553842147799|\n",
      "|02/08/2017|       Councilmember|       Casey Thomas|     [Casey, Thomas]|     Casey|   Thomas|2017| 0.20573991356703414|\n",
      "|02/08/2017|       Councilmember|Carolyn King Arnold|[Carolyn, King, A...|   Carolyn|   Arnold|2017|  0.6026934592553959|\n",
      "|02/08/2017|       Councilmember|   B. Adam  McGough| [B., Adam, McGough]|        B.|  McGough|2017|0.038288910053182246|\n",
      "|02/08/2017|       Councilmember|       Lee Kleinman|     [Lee, Kleinman]|       Lee| Kleinman|2017|  0.2318540697451178|\n",
      "|02/08/2017|       Councilmember|  Jennifer S. Gates|[Jennifer, S., Ga...|  Jennifer|    Gates|2017|  0.3637557763594754|\n",
      "|02/08/2017|       Councilmember| Philip T. Kingston|[Philip, T., King...|    Philip| Kingston|2017|   0.681016652188851|\n",
      "|02/08/2017|               Mayor|Michael S. Rawlings|[Michael, S., Raw...|   Michael| Rawlings|2017|                NULL|\n",
      "|02/08/2017|       Councilmember|       Adam Medrano|     [Adam, Medrano]|      Adam|  Medrano|2017| 0.04628368232637847|\n",
      "|02/08/2017|       Councilmember|       Casey Thomas|     [Casey, Thomas]|     Casey|   Thomas|2017|0.022812096940266535|\n",
      "|02/08/2017|       Councilmember|Carolyn King Arnold|[Carolyn, King, A...|   Carolyn|   Arnold|2017|  0.9028279820152422|\n",
      "|02/08/2017|       Councilmember| Rickey D. Callahan|[Rickey, D., Call...|    Rickey| Callahan|2017|  0.5910777611314942|\n",
      "|01/11/2017|       Councilmember|  Jennifer S. Gates|[Jennifer, S., Ga...|  Jennifer|    Gates|2017|  0.4594393648198718|\n",
      "|04/25/2018|       Councilmember| Jennifer S.  Gates|[Jennifer, S., Ga...|  Jennifer|    Gates|2018| 0.22568515405524447|\n",
      "|04/25/2018|       Councilmember|Philip T.  Kingston|[Philip, T., King...|    Philip| Kingston|2018|  0.9561126042533121|\n",
      "|04/25/2018|               Mayor|Michael S. Rawlings|[Michael, S., Raw...|   Michael| Rawlings|2018|                NULL|\n",
      "|04/25/2018|Deputy Mayor Pro Tem|       Adam Medrano|     [Adam, Medrano]|      Adam|  Medrano|2018|                NULL|\n",
      "+----------+--------------------+-------------------+--------------------+----------+---------+----+--------------------+\n",
      "only showing top 20 rows\n",
      "\n"
     ]
    }
   ],
   "source": [
    "# Add a column to voter_df for any voter with the title **Councilmember**\n",
    "voter_df = voter_df.withColumn('random_val',\n",
    "                               F.when(voter_df.TITLE == 'Councilmember', F.rand()))\n",
    "\n",
    "# Show some of the DataFrame rows, noting whether the when clause worked\n",
    "voter_df.show()"
   ]
  },
  {
   "cell_type": "markdown",
   "id": "b8f53a1f-0354-4319-9f34-0ba450c19a08",
   "metadata": {},
   "source": [
    "### When / Otherwise\n",
    "This requirement is similar to the last, but now you want to add multiple values based on the voter's position. Modify your `voter_df` DataFrame to add a random number to any voting member that is defined as a `Councilmember`. Use 2 for the `Mayor` and 0 for anything other position.\n",
    "\n",
    "The `voter_df` Data Frame is defined and available to you. The `pyspark.sql.functions` library is available as `F`. You can use `F.rand()` to generate the random value."
   ]
  },
  {
   "cell_type": "code",
   "execution_count": 82,
   "id": "adb54ec7-b477-483f-82de-42497c53ab85",
   "metadata": {
    "tags": []
   },
   "outputs": [
    {
     "name": "stdout",
     "output_type": "stream",
     "text": [
      "+----------+--------------------+-------------------+--------------------+----------+---------+----+--------------------+\n",
      "|      DATE|               TITLE|         VOTER_NAME|              splits|first_name|last_name|year|          random_val|\n",
      "+----------+--------------------+-------------------+--------------------+----------+---------+----+--------------------+\n",
      "|02/08/2017|       Councilmember|  Jennifer S. Gates|[Jennifer, S., Ga...|  Jennifer|    Gates|2017|  0.5832721810453418|\n",
      "|02/08/2017|       Councilmember| Philip T. Kingston|[Philip, T., King...|    Philip| Kingston|2017|  0.2788913277014696|\n",
      "|02/08/2017|               Mayor|Michael S. Rawlings|[Michael, S., Raw...|   Michael| Rawlings|2017|                 2.0|\n",
      "|02/08/2017|       Councilmember|       Adam Medrano|     [Adam, Medrano]|      Adam|  Medrano|2017|0.020739051913620576|\n",
      "|02/08/2017|       Councilmember|       Casey Thomas|     [Casey, Thomas]|     Casey|   Thomas|2017|  0.5459341954924434|\n",
      "|02/08/2017|       Councilmember|Carolyn King Arnold|[Carolyn, King, A...|   Carolyn|   Arnold|2017|   0.779022975028622|\n",
      "|02/08/2017|       Councilmember|   B. Adam  McGough| [B., Adam, McGough]|        B.|  McGough|2017|  0.9566124526250613|\n",
      "|02/08/2017|       Councilmember|       Lee Kleinman|     [Lee, Kleinman]|       Lee| Kleinman|2017|  0.7102546369067592|\n",
      "|02/08/2017|       Councilmember|  Jennifer S. Gates|[Jennifer, S., Ga...|  Jennifer|    Gates|2017|  0.8732982601751651|\n",
      "|02/08/2017|       Councilmember| Philip T. Kingston|[Philip, T., King...|    Philip| Kingston|2017| 0.20041936421343665|\n",
      "|02/08/2017|               Mayor|Michael S. Rawlings|[Michael, S., Raw...|   Michael| Rawlings|2017|                 2.0|\n",
      "|02/08/2017|       Councilmember|       Adam Medrano|     [Adam, Medrano]|      Adam|  Medrano|2017|  0.3645494143556376|\n",
      "|02/08/2017|       Councilmember|       Casey Thomas|     [Casey, Thomas]|     Casey|   Thomas|2017|  0.3641207882063373|\n",
      "|02/08/2017|       Councilmember|Carolyn King Arnold|[Carolyn, King, A...|   Carolyn|   Arnold|2017|  0.9533058758007071|\n",
      "|02/08/2017|       Councilmember| Rickey D. Callahan|[Rickey, D., Call...|    Rickey| Callahan|2017|  0.9003430765063694|\n",
      "|01/11/2017|       Councilmember|  Jennifer S. Gates|[Jennifer, S., Ga...|  Jennifer|    Gates|2017|  0.9459168969570017|\n",
      "|04/25/2018|       Councilmember| Jennifer S.  Gates|[Jennifer, S., Ga...|  Jennifer|    Gates|2018| 0.15983266326416967|\n",
      "|04/25/2018|       Councilmember|Philip T.  Kingston|[Philip, T., King...|    Philip| Kingston|2018|  0.6989961983439112|\n",
      "|04/25/2018|               Mayor|Michael S. Rawlings|[Michael, S., Raw...|   Michael| Rawlings|2018|                 2.0|\n",
      "|04/25/2018|Deputy Mayor Pro Tem|       Adam Medrano|     [Adam, Medrano]|      Adam|  Medrano|2018|                 0.0|\n",
      "+----------+--------------------+-------------------+--------------------+----------+---------+----+--------------------+\n",
      "only showing top 20 rows\n",
      "\n"
     ]
    }
   ],
   "source": [
    "# Add a column to voter_df for a voter based on their position\n",
    "voter_df = voter_df.withColumn('random_val',\n",
    "                               F.when(voter_df.TITLE == 'Councilmember', F.rand())\n",
    "                               .when(voter_df.TITLE == 'Mayor', 2)\n",
    "                               .otherwise(0))\n",
    "\n",
    "# Show some of the DataFrame rows\n",
    "voter_df.show()"
   ]
  },
  {
   "cell_type": "code",
   "execution_count": 83,
   "id": "857a6555-b015-4fc3-8c54-a39073327a3a",
   "metadata": {
    "tags": []
   },
   "outputs": [
    {
     "name": "stdout",
     "output_type": "stream",
     "text": [
      "+----------+--------------------+-----------------+--------------------+----------+---------+----+----------+\n",
      "|      DATE|               TITLE|       VOTER_NAME|              splits|first_name|last_name|year|random_val|\n",
      "+----------+--------------------+-----------------+--------------------+----------+---------+----+----------+\n",
      "|04/25/2018|Deputy Mayor Pro Tem|     Adam Medrano|     [Adam, Medrano]|      Adam|  Medrano|2018|       0.0|\n",
      "|04/25/2018|       Mayor Pro Tem|Dwaine R. Caraway|[Dwaine, R., Cara...|    Dwaine|  Caraway|2018|       0.0|\n",
      "|06/20/2018|Deputy Mayor Pro Tem|     Adam Medrano|     [Adam, Medrano]|      Adam|  Medrano|2018|       0.0|\n",
      "|06/20/2018|       Mayor Pro Tem|Dwaine R. Caraway|[Dwaine, R., Cara...|    Dwaine|  Caraway|2018|       0.0|\n",
      "|06/20/2018|Deputy Mayor Pro Tem|     Adam Medrano|     [Adam, Medrano]|      Adam|  Medrano|2018|       0.0|\n",
      "|06/20/2018|       Mayor Pro Tem|Dwaine R. Caraway|[Dwaine, R., Cara...|    Dwaine|  Caraway|2018|       0.0|\n",
      "|08/15/2018|Deputy Mayor Pro Tem|     Adam Medrano|     [Adam, Medrano]|      Adam|  Medrano|2018|       0.0|\n",
      "|08/15/2018|Deputy Mayor Pro Tem|     Adam Medrano|     [Adam, Medrano]|      Adam|  Medrano|2018|       0.0|\n",
      "|09/18/2018|Deputy Mayor Pro Tem|     Adam Medrano|     [Adam, Medrano]|      Adam|  Medrano|2018|       0.0|\n",
      "|09/18/2018|       Mayor Pro Tem|    Casey  Thomas|     [Casey, Thomas]|     Casey|   Thomas|2018|       0.0|\n",
      "|04/25/2018|Deputy Mayor Pro Tem|     Adam Medrano|     [Adam, Medrano]|      Adam|  Medrano|2018|       0.0|\n",
      "|04/25/2018|       Mayor Pro Tem|Dwaine R. Caraway|[Dwaine, R., Cara...|    Dwaine|  Caraway|2018|       0.0|\n",
      "|04/11/2018|       Mayor Pro Tem|Dwaine R. Caraway|[Dwaine, R., Cara...|    Dwaine|  Caraway|2018|       0.0|\n",
      "|04/11/2018|Deputy Mayor Pro Tem|     Adam Medrano|     [Adam, Medrano]|      Adam|  Medrano|2018|       0.0|\n",
      "|04/11/2018|       Mayor Pro Tem|Dwaine R. Caraway|[Dwaine, R., Cara...|    Dwaine|  Caraway|2018|       0.0|\n",
      "|04/11/2018|Deputy Mayor Pro Tem|     Adam Medrano|     [Adam, Medrano]|      Adam|  Medrano|2018|       0.0|\n",
      "|04/11/2018|       Mayor Pro Tem|Dwaine R. Caraway|[Dwaine, R., Cara...|    Dwaine|  Caraway|2018|       0.0|\n",
      "|06/13/2018|Deputy Mayor Pro Tem|     Adam Medrano|     [Adam, Medrano]|      Adam|  Medrano|2018|       0.0|\n",
      "|06/13/2018|       Mayor Pro Tem|Dwaine R. Caraway|[Dwaine, R., Cara...|    Dwaine|  Caraway|2018|       0.0|\n",
      "|04/11/2018|Deputy Mayor Pro Tem|     Adam Medrano|     [Adam, Medrano]|      Adam|  Medrano|2018|       0.0|\n",
      "+----------+--------------------+-----------------+--------------------+----------+---------+----+----------+\n",
      "only showing top 20 rows\n",
      "\n"
     ]
    }
   ],
   "source": [
    "# Use the .filter() clause with random_val\n",
    "voter_df.filter(voter_df.random_val == 0).show()"
   ]
  },
  {
   "cell_type": "markdown",
   "id": "f4d4707b-ea0b-4218-985a-9d4a0ab9798d",
   "metadata": {},
   "source": [
    "### Using user defined functions in Spark\n",
    "You've seen some of the power behind Spark's built-in string functions when it comes to manipulating DataFrames. However, once you reach a certain point, it becomes difficult to process the data in a without creating a rat's nest of function calls. Here's one place where you can use User Defined Functions to manipulate our DataFrames.\n",
    "\n",
    "For this exercise, we'll use our `voter_df` DataFrame, but you're going to replace the `first_name` column with the first and middle names.\n",
    "\n",
    "The `pyspark.sql.functions` library is available under the alias `F`. The classes from `pyspark.sql.types` are already imported."
   ]
  },
  {
   "cell_type": "code",
   "execution_count": 84,
   "id": "c39491f3-d82b-455c-8bc4-c3f551d43b80",
   "metadata": {
    "tags": []
   },
   "outputs": [
    {
     "name": "stdout",
     "output_type": "stream",
     "text": [
      "+----------+--------------------+-------------------+--------------------+----------+---------+----+--------------------+---------------------+\n",
      "|      DATE|               TITLE|         VOTER_NAME|              splits|first_name|last_name|year|          random_val|first_and_middle_name|\n",
      "+----------+--------------------+-------------------+--------------------+----------+---------+----+--------------------+---------------------+\n",
      "|02/08/2017|       Councilmember|  Jennifer S. Gates|[Jennifer, S., Ga...|  Jennifer|    Gates|2017|  0.5832721810453418|          Jennifer S.|\n",
      "|02/08/2017|       Councilmember| Philip T. Kingston|[Philip, T., King...|    Philip| Kingston|2017|  0.2788913277014696|            Philip T.|\n",
      "|02/08/2017|               Mayor|Michael S. Rawlings|[Michael, S., Raw...|   Michael| Rawlings|2017|                 2.0|           Michael S.|\n",
      "|02/08/2017|       Councilmember|       Adam Medrano|     [Adam, Medrano]|      Adam|  Medrano|2017|0.020739051913620576|                 Adam|\n",
      "|02/08/2017|       Councilmember|       Casey Thomas|     [Casey, Thomas]|     Casey|   Thomas|2017|  0.5459341954924434|                Casey|\n",
      "|02/08/2017|       Councilmember|Carolyn King Arnold|[Carolyn, King, A...|   Carolyn|   Arnold|2017|   0.779022975028622|         Carolyn King|\n",
      "|02/08/2017|       Councilmember|   B. Adam  McGough| [B., Adam, McGough]|        B.|  McGough|2017|  0.9566124526250613|              B. Adam|\n",
      "|02/08/2017|       Councilmember|       Lee Kleinman|     [Lee, Kleinman]|       Lee| Kleinman|2017|  0.7102546369067592|                  Lee|\n",
      "|02/08/2017|       Councilmember|  Jennifer S. Gates|[Jennifer, S., Ga...|  Jennifer|    Gates|2017|  0.8732982601751651|          Jennifer S.|\n",
      "|02/08/2017|       Councilmember| Philip T. Kingston|[Philip, T., King...|    Philip| Kingston|2017| 0.20041936421343665|            Philip T.|\n",
      "|02/08/2017|               Mayor|Michael S. Rawlings|[Michael, S., Raw...|   Michael| Rawlings|2017|                 2.0|           Michael S.|\n",
      "|02/08/2017|       Councilmember|       Adam Medrano|     [Adam, Medrano]|      Adam|  Medrano|2017|  0.3645494143556376|                 Adam|\n",
      "|02/08/2017|       Councilmember|       Casey Thomas|     [Casey, Thomas]|     Casey|   Thomas|2017|  0.3641207882063373|                Casey|\n",
      "|02/08/2017|       Councilmember|Carolyn King Arnold|[Carolyn, King, A...|   Carolyn|   Arnold|2017|  0.9533058758007071|         Carolyn King|\n",
      "|02/08/2017|       Councilmember| Rickey D. Callahan|[Rickey, D., Call...|    Rickey| Callahan|2017|  0.9003430765063694|            Rickey D.|\n",
      "|01/11/2017|       Councilmember|  Jennifer S. Gates|[Jennifer, S., Ga...|  Jennifer|    Gates|2017|  0.9459168969570017|          Jennifer S.|\n",
      "|04/25/2018|       Councilmember| Jennifer S.  Gates|[Jennifer, S., Ga...|  Jennifer|    Gates|2018| 0.15983266326416967|          Jennifer S.|\n",
      "|04/25/2018|       Councilmember|Philip T.  Kingston|[Philip, T., King...|    Philip| Kingston|2018|  0.6989961983439112|            Philip T.|\n",
      "|04/25/2018|               Mayor|Michael S. Rawlings|[Michael, S., Raw...|   Michael| Rawlings|2018|                 2.0|           Michael S.|\n",
      "|04/25/2018|Deputy Mayor Pro Tem|       Adam Medrano|     [Adam, Medrano]|      Adam|  Medrano|2018|                 0.0|                 Adam|\n",
      "+----------+--------------------+-------------------+--------------------+----------+---------+----+--------------------+---------------------+\n",
      "only showing top 20 rows\n",
      "\n"
     ]
    }
   ],
   "source": [
    "def getFirstAndMiddle(names):\n",
    "  # Return a space separated string of names\n",
    "  return ' '.join(names[:-1])\n",
    "\n",
    "# Define the method as a UDF\n",
    "udfFirstAndMiddle = F.udf(getFirstAndMiddle, StringType())\n",
    "\n",
    "# Create a new column using your UDF\n",
    "voter_df = voter_df.withColumn('first_and_middle_name', udfFirstAndMiddle(voter_df['splits']))\n",
    "\n",
    "# Show the DataFrame\n",
    "voter_df.show()"
   ]
  },
  {
   "cell_type": "markdown",
   "id": "64721103-11c7-4d22-8c0b-7fa737b770c8",
   "metadata": {},
   "source": [
    "### Adding an ID Field\n",
    "When working with data, you sometimes only want to access certain fields and perform various operations. In this case, find all the unique voter names from the DataFrame and add a unique ID number. Remember that Spark IDs are assigned based on the DataFrame partition - as such the ID values may be much greater than the actual number of rows in the DataFrame.\n",
    "\n",
    "With Spark's lazy processing, the IDs are not actually generated until an action is performed and can be somewhat random depending on the size of the dataset.\n",
    "\n",
    "The `spark` session and a Spark DataFrame `df` containing the `DallasCouncilVotes.csv.gz` file are available in your workspace. The `pyspark.sql.functions` library is available under the alias `F`."
   ]
  },
  {
   "cell_type": "code",
   "execution_count": 85,
   "id": "0a56a3ce-b46e-4c7f-83c3-f4bb17048049",
   "metadata": {
    "tags": []
   },
   "outputs": [
    {
     "name": "stdout",
     "output_type": "stream",
     "text": [
      "\n",
      "There are 23 rows in the voter_df DataFrame.\n",
      "\n",
      "+-------------------+------+\n",
      "|         VOTER_NAME|ROW_ID|\n",
      "+-------------------+------+\n",
      "|       Lee Kleinman|    22|\n",
      "|Rickey D.  Callahan|    21|\n",
      "|  Jennifer S. Gates|    20|\n",
      "|Philip T.  Kingston|    19|\n",
      "| Jennifer S.  Gates|    18|\n",
      "|     Tennell Atkins|    17|\n",
      "|        Erik Wilson|    16|\n",
      "|    Lee M. Kleinman|    15|\n",
      "| Rickey D. Callahan|    14|\n",
      "|       Mark Clayton|    13|\n",
      "+-------------------+------+\n",
      "only showing top 10 rows\n",
      "\n"
     ]
    }
   ],
   "source": [
    "# Select all the unique council voters\n",
    "voter_df = voter_df.select(voter_df[\"VOTER_NAME\"]).distinct()\n",
    "\n",
    "# Count the rows in voter_df\n",
    "print(\"\\nThere are %d rows in the voter_df DataFrame.\\n\" % voter_df.count())\n",
    "\n",
    "# Add a ROW_ID\n",
    "voter_df = voter_df.withColumn('ROW_ID', F.monotonically_increasing_id())\n",
    "\n",
    "# Show the rows with 10 highest IDs in the set\n",
    "voter_df.orderBy(voter_df.ROW_ID.desc()).show(10)"
   ]
  },
  {
   "cell_type": "markdown",
   "id": "6ab76678-3759-4f8e-9b70-49dd28d9c33c",
   "metadata": {},
   "source": [
    "### IDs with different partitions\n",
    "You've just completed adding an ID field to a DataFrame. Now, take a look at what happens when you do the same thing on DataFrames containing a different number of partitions.\n",
    "\n",
    "To check the number of partitions, use the method `.rdd.getNumPartitions()` on a DataFrame.\n",
    "\n",
    "The `spark` session and two DataFrames, `voter_df` and `voter_df_single`, are available in your workspace. The instructions will help you discover the difference between the DataFrames. The `pyspark.sql.functions` library is available under the alias `F`."
   ]
  },
  {
   "cell_type": "code",
   "execution_count": 86,
   "id": "35067df5-b75a-453b-926f-b8794d6c0c46",
   "metadata": {
    "tags": []
   },
   "outputs": [],
   "source": [
    "voter_df_single = voter_df.select(\"*\")\n",
    "voter_df_double = voter_df.select(\"*\")\n",
    "voter_df_single = voter_df_single.repartition(1, \"VOTER_NAME\")\n",
    "voter_df_double = voter_df_double.repartition(2, \"VOTER_NAME\")"
   ]
  },
  {
   "cell_type": "code",
   "execution_count": 87,
   "id": "f3e6bff6-88b4-43c7-bc36-436f7806b7ba",
   "metadata": {
    "tags": []
   },
   "outputs": [
    {
     "name": "stdout",
     "output_type": "stream",
     "text": [
      "\n",
      "There are 2 partitions in the voter_df DataFrame.\n",
      "\n",
      "\n",
      "There are 1 partitions in the voter_df_single DataFrame.\n",
      "\n",
      "+------------------+----------+\n",
      "|        VOTER_NAME|    ROW_ID|\n",
      "+------------------+----------+\n",
      "|      Lee Kleinman|8589934603|\n",
      "| Jennifer S. Gates|8589934602|\n",
      "|    Tennell Atkins|8589934601|\n",
      "|   Lee M. Kleinman|8589934600|\n",
      "|Rickey D. Callahan|8589934599|\n",
      "|      Kevin Felder|8589934598|\n",
      "|  Monica R. Alonzo|8589934597|\n",
      "|Philip T. Kingston|8589934596|\n",
      "|  B. Adam  McGough|8589934595|\n",
      "|     Casey  Thomas|8589934594|\n",
      "+------------------+----------+\n",
      "only showing top 10 rows\n",
      "\n",
      "+-------------------+------+\n",
      "|         VOTER_NAME|ROW_ID|\n",
      "+-------------------+------+\n",
      "|       Lee Kleinman|    22|\n",
      "|Rickey D.  Callahan|    21|\n",
      "|  Jennifer S. Gates|    20|\n",
      "|Philip T.  Kingston|    19|\n",
      "| Jennifer S.  Gates|    18|\n",
      "|     Tennell Atkins|    17|\n",
      "|        Erik Wilson|    16|\n",
      "|    Lee M. Kleinman|    15|\n",
      "| Rickey D. Callahan|    14|\n",
      "|       Mark Clayton|    13|\n",
      "+-------------------+------+\n",
      "only showing top 10 rows\n",
      "\n"
     ]
    }
   ],
   "source": [
    "# Print the number of partitions in each DataFrame\n",
    "print(\"\\nThere are %d partitions in the voter_df DataFrame.\\n\" % voter_df_double.rdd.getNumPartitions())\n",
    "print(\"\\nThere are %d partitions in the voter_df_single DataFrame.\\n\" % voter_df_single.rdd.getNumPartitions())\n",
    "\n",
    "# Add a ROW_ID field to each DataFrame\n",
    "voter_df_double = voter_df_double.withColumn('ROW_ID', F.monotonically_increasing_id())\n",
    "voter_df_single = voter_df_single.withColumn('ROW_ID', F.monotonically_increasing_id())\n",
    "\n",
    "# Show the top 10 IDs in each DataFrame \n",
    "voter_df_double.orderBy(voter_df_double.ROW_ID.desc()).show(10)\n",
    "voter_df_single.orderBy(voter_df_single.ROW_ID.desc()).show(10)"
   ]
  },
  {
   "cell_type": "markdown",
   "id": "e944c7c5-eece-4201-bcfd-99cb5d44cc40",
   "metadata": {},
   "source": [
    "### More ID tricks\n",
    "Once you define a Spark process, you'll likely want to use it many times. Depending on your needs, you may want to start your IDs at a certain value so there isn't overlap with previous runs of the Spark task. This behavior is similar to how IDs would behave in a relational database. You have been given the task to make sure that the IDs output from a monthly Spark task start at the highest value from the previous month.\n",
    "\n",
    "The `spark` session and two DataFrames, `voter_df_march` and `voter_df_april`, are available in your workspace. The `pyspark.sql.functions` library is available under the alias `F`."
   ]
  },
  {
   "cell_type": "code",
   "execution_count": 97,
   "id": "40116b79-95c1-413d-b241-2e11fb015627",
   "metadata": {
    "tags": []
   },
   "outputs": [],
   "source": [
    "voter_df_march = voter_df.offset(2).limit(10)\n",
    "voter_df_april = voter_df.offset(12).limit(10)"
   ]
  },
  {
   "cell_type": "code",
   "execution_count": 98,
   "id": "64b99463-605d-43ba-b1b9-a35d7118cb90",
   "metadata": {
    "tags": []
   },
   "outputs": [
    {
     "name": "stdout",
     "output_type": "stream",
     "text": [
      "+------+\n",
      "|ROW_ID|\n",
      "+------+\n",
      "|     2|\n",
      "|     3|\n",
      "|     4|\n",
      "|     5|\n",
      "|     6|\n",
      "|     7|\n",
      "|     8|\n",
      "|     9|\n",
      "|    10|\n",
      "|    11|\n",
      "+------+\n",
      "\n",
      "+------+\n",
      "|ROW_ID|\n",
      "+------+\n",
      "|    12|\n",
      "|    13|\n",
      "|    14|\n",
      "|    15|\n",
      "|    16|\n",
      "|    17|\n",
      "|    18|\n",
      "|    19|\n",
      "|    20|\n",
      "|    21|\n",
      "+------+\n",
      "\n"
     ]
    }
   ],
   "source": [
    "# Determine the highest ROW_ID and save it in previous_max_ID\n",
    "previous_max_ID = voter_df_march.select('ROW_ID').rdd.max()[0] + 1\n",
    "\n",
    "# Add a ROW_ID column to voter_df_april starting at the desired value\n",
    "voter_df_april = voter_df_april.withColumn('ROW_ID', previous_max_ID + F.monotonically_increasing_id())\n",
    "\n",
    "# Show the ROW_ID from both DataFrames and compare\n",
    "voter_df_march.select('ROW_ID').show()\n",
    "voter_df_april.select('ROW_ID').show()"
   ]
  },
  {
   "cell_type": "code",
   "execution_count": null,
   "id": "bbddc2d7-0c1f-4cdd-868d-76857ed8d4df",
   "metadata": {},
   "outputs": [],
   "source": []
  }
 ],
 "metadata": {
  "kernelspec": {
   "display_name": "Python 3",
   "language": "python",
   "name": "python3"
  },
  "language_info": {
   "codemirror_mode": {
    "name": "ipython",
    "version": 3
   },
   "file_extension": ".py",
   "mimetype": "text/x-python",
   "name": "python",
   "nbconvert_exporter": "python",
   "pygments_lexer": "ipython3",
   "version": "3.11.8"
  }
 },
 "nbformat": 4,
 "nbformat_minor": 5
}